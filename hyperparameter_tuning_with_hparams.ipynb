{
 "cells": [
  {
   "cell_type": "markdown",
   "metadata": {
    "id": "TsHV-7cpVkyK"
   },
   "source": [
    "##### Copyright 2019 The TensorFlow Authors."
   ]
  },
  {
   "cell_type": "code",
   "execution_count": 17,
   "metadata": {
    "cellView": "form",
    "id": "atWM-s8yVnfX"
   },
   "outputs": [],
   "source": [
    "#@title Licensed under the Apache License, Version 2.0 (the \"License\");\n",
    "# you may not use this file except in compliance with the License.\n",
    "# You may obtain a copy of the License at\n",
    "#\n",
    "# https://www.apache.org/licenses/LICENSE-2.0\n",
    "#\n",
    "# Unless required by applicable law or agreed to in writing, software\n",
    "# distributed under the License is distributed on an \"AS IS\" BASIS,\n",
    "# WITHOUT WARRANTIES OR CONDITIONS OF ANY KIND, either express or implied.\n",
    "# See the License for the specific language governing permissions and\n",
    "# limitations under the License."
   ]
  },
  {
   "cell_type": "markdown",
   "metadata": {
    "id": "TB0wBWfcVqHz"
   },
   "source": [
    "# Hyperparameter Tuning with the HParams Dashboard\n",
    "\n",
    "<table class=\"tfo-notebook-buttons\" align=\"left\">\n",
    "  <td>\n",
    "    <a target=\"_blank\" href=\"https://www.tensorflow.org/tensorboard/hyperparameter_tuning_with_hparams\"><img src=\"https://www.tensorflow.org/images/tf_logo_32px.png\" />View on TensorFlow.org</a>\n",
    "  </td>\n",
    "  <td>\n",
    "    <a target=\"_blank\" href=\"https://colab.research.google.com/github/tensorflow/tensorboard/blob/master/docs/hyperparameter_tuning_with_hparams.ipynb\"><img src=\"https://www.tensorflow.org/images/colab_logo_32px.png\" />Run in Google Colab</a>\n",
    "  </td>\n",
    "  <td>\n",
    "    <a target=\"_blank\" href=\"https://github.com/tensorflow/tensorboard/blob/master/docs/hyperparameter_tuning_with_hparams.ipynb\"><img src=\"https://www.tensorflow.org/images/GitHub-Mark-32px.png\" />View source on GitHub</a>\n",
    "  </td>\n",
    "  <td>\n",
    "    <a href=\"https://storage.googleapis.com/tensorflow_docs/tensorboard/docs/hyperparameter_tuning_with_hparams.ipynb\"><img src=\"https://www.tensorflow.org/images/download_logo_32px.png\" />Download notebook</a>\n",
    "  </td>\n",
    "</table>"
   ]
  },
  {
   "cell_type": "markdown",
   "metadata": {
    "id": "elH58gbhWAmn"
   },
   "source": [
    "When building machine learning models, you need to choose various [hyperparameters](https://en.wikipedia.org/wiki/Hyperparameter_(machine_learning)), such as the dropout rate in a layer or the learning rate. These decisions impact model metrics, such as accuracy. Therefore, an important step in the machine learning workflow is to identify the best hyperparameters for your problem, which often involves experimentation. This process is known as \"Hyperparameter Optimization\" or \"Hyperparameter Tuning\".\n",
    "\n",
    "The HParams dashboard in TensorBoard provides several tools to help with this process of identifying the best experiment or most promising sets of hyperparameters. \n",
    "\n",
    "This tutorial will focus on the following steps:\n",
    "\n",
    "1. Experiment setup and HParams summary\n",
    "2. Adapt TensorFlow runs to log hyperparameters and metrics\n",
    "3. Start runs and log them all under one parent directory\n",
    "4. Visualize the results in TensorBoard's HParams dashboard\n",
    "\n",
    "Note: The HParams summary APIs and dashboard UI are in a preview stage and will change over time. \n",
    "\n",
    "Start by installing TF 2.0 and loading the TensorBoard notebook extension:"
   ]
  },
  {
   "cell_type": "code",
   "execution_count": 18,
   "metadata": {
    "id": "8p3Tbx8cWEFA"
   },
   "outputs": [
    {
     "name": "stdout",
     "output_type": "stream",
     "text": [
      "The tensorboard extension is already loaded. To reload it, use:\n",
      "  %reload_ext tensorboard\n"
     ]
    }
   ],
   "source": [
    "# Load the TensorBoard notebook extension\n",
    "%load_ext tensorboard"
   ]
  },
  {
   "cell_type": "code",
   "execution_count": 19,
   "metadata": {
    "id": "lEWCCQYkWIdA"
   },
   "outputs": [],
   "source": [
    "# Clear any logs from previous runs\n",
    "!rm -rf ./logs/ "
   ]
  },
  {
   "cell_type": "markdown",
   "metadata": {
    "id": "9GtR_cTTkf9G"
   },
   "source": [
    "Import TensorFlow and the TensorBoard HParams plugin:"
   ]
  },
  {
   "cell_type": "code",
   "execution_count": 20,
   "metadata": {
    "id": "mVtYvbbIWRkV"
   },
   "outputs": [],
   "source": [
    "import tensorflow as tf\n",
    "from tensorboard.plugins.hparams import api as hp\n",
    "\n",
    "import matplotlib.pyplot as plt\n",
    "import numpy as np\n",
    "import pandas as pd\n",
    "import tensorflow as tf\n",
    "import corner\n",
    "import h5py\n",
    "import keras\n",
    "from keras import layers\n",
    "from sklearn.metrics import accuracy_score, precision_score, recall_score\n",
    "from sklearn.model_selection import train_test_split\n",
    "from tensorflow.keras import layers, losses\n",
    "from tensorflow.keras.models import Model\n",
    "from sklearn.preprocessing import StandardScaler"
   ]
  },
  {
   "cell_type": "markdown",
   "metadata": {
    "id": "XfCa27_8kov6"
   },
   "source": [
    "Download the [FashionMNIST](https://github.com/zalandoresearch/fashion-mnist) dataset and scale it:"
   ]
  },
  {
   "cell_type": "code",
   "execution_count": 21,
   "metadata": {},
   "outputs": [],
   "source": [
    "data_path = './'\n",
    "filenames = ['LRT_trig_ntuples_2.h5']  # file can be downloaded from https://cernbox.cern.ch/s/QYKbp42p1W6HOp0 (share with egroup)\n",
    "dataset_names = [\"jets\", \"electrons\", \"muons\", \"photons\", \"MET\", \"PU\"]"
   ]
  },
  {
   "cell_type": "code",
   "execution_count": 22,
   "metadata": {},
   "outputs": [],
   "source": [
    "# Make a list that contains the ndarrays for each dataset\n",
    "datasets = []\n",
    "\n",
    "for filename in filenames:\n",
    "    with h5py.File(data_path+filename, 'r') as hf:\n",
    "        jets = hf['jets'][:]\n",
    "        electrons = hf['electrons'][:]\n",
    "        muons = hf['muons'][:]\n",
    "        photons = hf['photons'][:]\n",
    "        MET = hf['MET'][:].reshape(-1, 1, 4)  # Broadcasting MET\n",
    "        PU = hf['PU'][:].reshape(-1, 1, 4)  # Broadcasting PU\n",
    "        combined_data = np.concatenate([jets, electrons, muons, photons, MET, PU], axis=1)\n",
    "        datasets.append(combined_data)"
   ]
  },
  {
   "cell_type": "code",
   "execution_count": 23,
   "metadata": {},
   "outputs": [
    {
     "name": "stdout",
     "output_type": "stream",
     "text": [
      "(1019220, 84)\n"
     ]
    }
   ],
   "source": [
    "# Flatten ndarrays for DNN\n",
    "flat_datasets = []\n",
    "\n",
    "for i, data in enumerate(datasets):\n",
    "    flat_datasets.append(np.reshape(data, newshape=(-1, 84)))\n",
    "\n",
    "    \n",
    "#check for tabular shapes    \n",
    "for i, data in enumerate(flat_datasets):\n",
    "    print(data.shape)"
   ]
  },
  {
   "cell_type": "code",
   "execution_count": 24,
   "metadata": {},
   "outputs": [
    {
     "name": "stdout",
     "output_type": "stream",
     "text": [
      "[[-0.96469311 -0.7274264   0.01304539 ...  0.          0.\n",
      "   0.        ]\n",
      " [-0.96469311 -0.7274264   0.01304539 ...  0.          0.\n",
      "   0.        ]\n",
      " [-0.96469311 -0.7274264   0.01304539 ...  0.          0.\n",
      "   0.        ]\n",
      " ...\n",
      " [-0.01078135  1.08312964  1.57312377 ...  0.          0.\n",
      "   0.        ]\n",
      " [-0.17583116 -0.63939132 -0.169871   ...  0.          0.\n",
      "   0.        ]\n",
      " [ 1.72366872  2.03102055 -1.28198901 ...  0.          0.\n",
      "   0.        ]]\n",
      "(1019023, 84)\n",
      "False\n"
     ]
    }
   ],
   "source": [
    "#setting number of features \n",
    "N = 84 \n",
    "\n",
    "#remove the rare events where any of the entries is nan\n",
    "data = data[~np.isnan(data).any(axis=1), :]\n",
    "\n",
    "# Standardizing the features\n",
    "data = StandardScaler().fit_transform(data)\n",
    "\n",
    "print(data)\n",
    "print(data.shape)\n",
    "\n",
    "train_data, test_data = train_test_split(data, test_size=0.2, random_state=21)\n",
    "print(np.isnan(train_data).any())"
   ]
  },
  {
   "cell_type": "code",
   "execution_count": 25,
   "metadata": {},
   "outputs": [],
   "source": [
    "# rough normalisation of features before training\n",
    "\n",
    "#min_val = tf.reduce_min(train_data)\n",
    "#max_val = tf.reduce_max(train_data)\n",
    "\n",
    "#train_data = (train_data - min_val) / (max_val - min_val)\n",
    "#test_data = (test_data - min_val) / (max_val - min_val)\n",
    "\n",
    "train_data = tf.cast(train_data, tf.float32)\n",
    "test_data = tf.cast(test_data, tf.float32)"
   ]
  },
  {
   "cell_type": "markdown",
   "metadata": {
    "id": "0tsTxO85WaYq"
   },
   "source": [
    "## 1. Experiment setup and the HParams experiment summary\n",
    "\n",
    "Experiment with three hyperparameters in the model:\n",
    "\n",
    "1. Number of units in the first dense layer\n",
    "2. Dropout rate in the dropout layer\n",
    "3. Optimizer\n",
    "\n",
    "List the values to try, and log an experiment configuration to TensorBoard. This step is optional: you can provide domain information to enable more precise filtering of hyperparameters in the UI, and you can specify which metrics should be displayed."
   ]
  },
  {
   "cell_type": "code",
   "execution_count": 26,
   "metadata": {
    "id": "5Euw0agpWb4V"
   },
   "outputs": [],
   "source": [
    "HP_NUM_UNITS = hp.HParam('num_units', hp.Discrete([2, 4, 8, 16, 24, 32, 40, 48, 56, 64, N]))\n",
    "#HP_DROPOUT = hp.HParam('dropout', hp.RealInterval(0.1, 0.2))\n",
    "#HP_OPTIMIZER = hp.HParam('optimizer', hp.Discrete(['adam', 'sgd']))\n",
    "\n",
    "METRIC_ACCURACY = 'mae'\n",
    "\n",
    "with tf.summary.create_file_writer('logs/hparam_tuning').as_default():\n",
    "  hp.hparams_config(\n",
    "    hparams=[HP_NUM_UNITS],\n",
    "    #hparams=[HP_NUM_UNITS, HP_DROPOUT, HP_OPTIMIZER],\n",
    "    metrics=[hp.Metric(METRIC_ACCURACY, display_name='Accuracy')],\n",
    "  )"
   ]
  },
  {
   "cell_type": "markdown",
   "metadata": {
    "id": "T_T95RrSIVO6"
   },
   "source": [
    "If you choose to skip this step, you can use a string literal wherever you would otherwise use an `HParam` value: e.g., `hparams['dropout']` instead of `hparams[HP_DROPOUT]`."
   ]
  },
  {
   "cell_type": "markdown",
   "metadata": {
    "id": "va9XMh-dW4_f"
   },
   "source": [
    "## 2. Adapt TensorFlow runs to log hyperparameters and metrics\n",
    "\n",
    "The model will be quite simple: two dense layers with a dropout layer between them. The training code will look familiar, although the hyperparameters are no longer hardcoded. Instead, the hyperparameters are provided in an `hparams` dictionary and used throughout the training function:"
   ]
  },
  {
   "cell_type": "code",
   "execution_count": 27,
   "metadata": {
    "id": "hG-zalNfW5Zl"
   },
   "outputs": [],
   "source": [
    "def train_test_model(hparams):\n",
    "  model = tf.keras.models.Sequential([\n",
    "    #tf.keras.layers.Flatten(),\n",
    "    tf.keras.layers.Dense(N, activation=tf.nn.tanh),\n",
    "    tf.keras.layers.Dense(hparams[HP_NUM_UNITS], activation=tf.nn.tanh),\n",
    "    tf.keras.layers.Dense(N, activation=tf.nn.tanh)\n",
    "  ])\n",
    "  model.compile(\n",
    "      optimizer='adam',\n",
    "      loss='mae',\n",
    "      metrics=['accuracy'],\n",
    "  )\n",
    "\n",
    "  model.fit(train_data, train_data, epochs=1) # Run with 1 epoch to speed things up for demo purposes\n",
    "  _, accuracy = model.evaluate(train_data, train_data)\n",
    "  return accuracy"
   ]
  },
  {
   "cell_type": "markdown",
   "metadata": {
    "id": "46oJF8seXM7v"
   },
   "source": [
    "For each run, log an hparams summary with the hyperparameters and final accuracy:"
   ]
  },
  {
   "cell_type": "code",
   "execution_count": 28,
   "metadata": {
    "id": "8j-fO6nEXRfW"
   },
   "outputs": [],
   "source": [
    "def run(run_dir, hparams):\n",
    "  with tf.summary.create_file_writer(run_dir).as_default():\n",
    "    hp.hparams(hparams)  # record the values used in this trial\n",
    "    accuracy = train_test_model(hparams)\n",
    "    tf.summary.scalar(METRIC_ACCURACY, accuracy, step=1)"
   ]
  },
  {
   "cell_type": "markdown",
   "metadata": {
    "id": "2mYdW0VKLbFE"
   },
   "source": [
    "When training Keras models, you can use callbacks instead of writing these directly:\n",
    "\n",
    "```python\n",
    "model.fit(\n",
    "    ...,\n",
    "    callbacks=[\n",
    "        tf.keras.callbacks.TensorBoard(logdir),  # log metrics\n",
    "        hp.KerasCallback(logdir, hparams),  # log hparams\n",
    "    ],\n",
    ")\n",
    "```"
   ]
  },
  {
   "cell_type": "markdown",
   "metadata": {
    "id": "u2nOgIKAXdcb"
   },
   "source": [
    "## 3. Start runs and log them all under one parent directory\n",
    "\n",
    "You can now try multiple experiments, training each one with a different set of hyperparameters. \n",
    "\n",
    "For simplicity, use a grid search: try all combinations of the discrete parameters and just the lower and upper bounds of the real-valued parameter. For more complex scenarios, it might be more effective to choose each hyperparameter value randomly (this is called a random search). There are more advanced methods that can be used.\n",
    "\n",
    "Run a few experiments, which will take a few minutes:"
   ]
  },
  {
   "cell_type": "code",
   "execution_count": 30,
   "metadata": {
    "id": "KbqT5n-AXd0h"
   },
   "outputs": [
    {
     "name": "stdout",
     "output_type": "stream",
     "text": [
      "--- Starting trial: run-0\n",
      "{'num_units': 2}\n",
      "25476/25476 [==============================] - 67s 3ms/step - loss: 0.3501 - accuracy: 0.1278\n",
      "25476/25476 [==============================] - 57s 2ms/step - loss: 0.3477 - accuracy: 0.1295\n",
      "--- Starting trial: run-1\n",
      "{'num_units': 4}\n",
      "25476/25476 [==============================] - 44s 2ms/step - loss: 0.3351 - accuracy: 0.1028\n",
      "25476/25476 [==============================] - 27s 1ms/step - loss: 0.3306 - accuracy: 0.0274\n",
      "--- Starting trial: run-2\n",
      "{'num_units': 8}\n",
      "25476/25476 [==============================] - 34s 1ms/step - loss: 0.3103 - accuracy: 0.0915\n",
      "25476/25476 [==============================] - 26s 1ms/step - loss: 0.3016 - accuracy: 0.0853\n",
      "--- Starting trial: run-3\n",
      "{'num_units': 16}\n",
      "25476/25476 [==============================] - 36s 1ms/step - loss: 0.2649 - accuracy: 0.1820\n",
      "25476/25476 [==============================] - 30s 1ms/step - loss: 0.2537 - accuracy: 0.1923\n",
      "--- Starting trial: run-4\n",
      "{'num_units': 24}\n",
      "25476/25476 [==============================] - 41s 2ms/step - loss: 0.2264 - accuracy: 0.2856\n",
      "25476/25476 [==============================] - 31s 1ms/step - loss: 0.2148 - accuracy: 0.2958\n",
      "--- Starting trial: run-5\n",
      "{'num_units': 32}\n",
      "25476/25476 [==============================] - 39s 1ms/step - loss: 0.1972 - accuracy: 0.3785\n",
      "25476/25476 [==============================] - 31s 1ms/step - loss: 0.1858 - accuracy: 0.3642\n",
      "--- Starting trial: run-6\n",
      "{'num_units': 40}\n",
      "25476/25476 [==============================] - 35s 1ms/step - loss: 0.1835 - accuracy: 0.4557\n",
      "25476/25476 [==============================] - 29s 1ms/step - loss: 0.1722 - accuracy: 0.4269\n",
      "--- Starting trial: run-7\n",
      "{'num_units': 48}\n",
      "25476/25476 [==============================] - 41s 2ms/step - loss: 0.1762 - accuracy: 0.5140\n",
      "25476/25476 [==============================] - 30s 1ms/step - loss: 0.1646 - accuracy: 0.4782\n",
      "--- Starting trial: run-8\n",
      "{'num_units': 56}\n",
      "25476/25476 [==============================] - 40s 2ms/step - loss: 0.1736 - accuracy: 0.5687\n",
      "25476/25476 [==============================] - 30s 1ms/step - loss: 0.1629 - accuracy: 0.5832\n",
      "--- Starting trial: run-9\n",
      "{'num_units': 64}\n",
      "25476/25476 [==============================] - 42s 1ms/step - loss: 0.1718 - accuracy: 0.5796\n",
      "25476/25476 [==============================] - 27s 1ms/step - loss: 0.1625 - accuracy: 0.6054\n",
      "--- Starting trial: run-10\n",
      "{'num_units': 84}\n",
      "25476/25476 [==============================] - 38s 1ms/step - loss: 0.1691 - accuracy: 0.6086\n",
      "25476/25476 [==============================] - 31s 1ms/step - loss: 0.1627 - accuracy: 0.6254\n"
     ]
    }
   ],
   "source": [
    "session_num = 0\n",
    "\n",
    "for num_units in HP_NUM_UNITS.domain.values:\n",
    "  #for dropout_rate in (HP_DROPOUT.domain.min_value, HP_DROPOUT.domain.max_value):\n",
    "  #  for optimizer in HP_OPTIMIZER.domain.values:\n",
    "      hparams = {\n",
    "          HP_NUM_UNITS: num_units\n",
    "     #     HP_DROPOUT: dropout_rate,\n",
    "      #    HP_OPTIMIZER: optimizer,\n",
    "      }\n",
    "      run_name = \"run-%d\" % session_num\n",
    "      print('--- Starting trial: %s' % run_name)\n",
    "      print({h.name: hparams[h] for h in hparams})\n",
    "      run('logs/hparam_tuning/' + run_name, hparams)\n",
    "      session_num += 1\n"
   ]
  },
  {
   "cell_type": "markdown",
   "metadata": {
    "id": "qSyjWQ3mPKT9"
   },
   "source": [
    "## 4. Visualize the results in TensorBoard's HParams plugin"
   ]
  },
  {
   "cell_type": "markdown",
   "metadata": {
    "id": "5VBvplwyP8Vy"
   },
   "source": [
    "The HParams dashboard can now be opened. Start TensorBoard and click on \"HParams\" at the top."
   ]
  },
  {
   "cell_type": "code",
   "execution_count": 31,
   "metadata": {
    "id": "Xf4KM-U2bbP_",
    "scrolled": false
   },
   "outputs": [
    {
     "data": {
      "text/html": [
       "\n",
       "      <iframe id=\"tensorboard-frame-dff6317d42ae225b\" width=\"100%\" height=\"800\" frameborder=\"0\">\n",
       "      </iframe>\n",
       "      <script>\n",
       "        (function() {\n",
       "          const frame = document.getElementById(\"tensorboard-frame-dff6317d42ae225b\");\n",
       "          const url = new URL(\"/\", window.location);\n",
       "          const port = 6006;\n",
       "          if (port) {\n",
       "            url.port = port;\n",
       "          }\n",
       "          frame.src = url;\n",
       "        })();\n",
       "      </script>\n",
       "    "
      ],
      "text/plain": [
       "<IPython.core.display.HTML object>"
      ]
     },
     "metadata": {},
     "output_type": "display_data"
    }
   ],
   "source": [
    "%tensorboard --logdir logs/hparam_tuning"
   ]
  },
  {
   "cell_type": "markdown",
   "metadata": {
    "id": "UTWg9nXnxWWI"
   },
   "source": [
    "<!-- <img class=\"tfo-display-only-on-site\" src=\"images/hparams_table.png?raw=1\"/> -->"
   ]
  },
  {
   "cell_type": "markdown",
   "metadata": {
    "id": "4RPGbR9EWd4o"
   },
   "source": [
    "The left pane of the dashboard provides filtering capabilities that are active across all the views in the HParams dashboard:\n",
    "\n",
    "- Filter which hyperparameters/metrics are shown in the dashboard\n",
    "- Filter which hyperparameter/metrics values are shown in the dashboard\n",
    "- Filter on run status (running, success, ...)\n",
    "- Sort by hyperparameter/metric in the table view\n",
    "- Number of session groups to show (useful for performance when there are many experiments)\n"
   ]
  },
  {
   "cell_type": "markdown",
   "metadata": {
    "id": "Z3Q5v28XaCt8"
   },
   "source": [
    "The HParams dashboard has three different views, with various useful information:\n",
    "\n",
    "* The **Table View** lists the runs, their hyperparameters, and their metrics.\n",
    "* The **Parallel Coordinates View** shows each run as a line going through an axis for each hyperparemeter and metric. Click and drag the mouse on any axis to mark a region which will highlight only the runs that pass through it. This can be useful for identifying which groups of hyperparameters are most important. The axes themselves can be re-ordered by dragging them.\n",
    "* The **Scatter Plot View** shows plots comparing each hyperparameter/metric with each metric. This can help identify correlations. Click and drag to select a region in a specific plot and highlight those sessions across the other plots. \n",
    "\n",
    "A table row, a parallel coordinates line, and a scatter plot market can be clicked to see a plot of the metrics as a function of training steps for that session (although in this tutorial only one step is used for each run)."
   ]
  },
  {
   "cell_type": "markdown",
   "metadata": {
    "id": "fh3p0DtcdOK1"
   },
   "source": [
    "To further explore the capabilities of the HParams dashboard, download a set of pregenerated logs with more experiments:"
   ]
  },
  {
   "cell_type": "code",
   "execution_count": null,
   "metadata": {
    "id": "oxrSUAnCeFmQ"
   },
   "outputs": [],
   "source": [
    "%%bash\n",
    "wget -q 'https://storage.googleapis.com/download.tensorflow.org/tensorboard/hparams_demo_logs.zip'\n",
    "unzip -q hparams_demo_logs.zip -d logs/hparam_demo"
   ]
  },
  {
   "cell_type": "markdown",
   "metadata": {
    "id": "__8xQhjqgr3D"
   },
   "source": [
    "View these logs in TensorBoard:"
   ]
  },
  {
   "cell_type": "code",
   "execution_count": null,
   "metadata": {
    "id": "KBHp6M_zgjp4"
   },
   "outputs": [],
   "source": [
    "%tensorboard --logdir logs/hparam_demo"
   ]
  },
  {
   "cell_type": "markdown",
   "metadata": {
    "id": "Po7rTfQswAMT"
   },
   "source": [
    "<!-- <img class=\"tfo-display-only-on-site\" src=\"images/hparams_parallel_coordinates.png?raw=1\"/> -->"
   ]
  },
  {
   "cell_type": "markdown",
   "metadata": {
    "id": "IlDz2oXBgnZ9"
   },
   "source": [
    "You can try out the different views in the HParams dashboard. \n",
    "\n",
    "For example, by going to the parallel coordinates view and clicking and dragging on the accuracy axis, you can select the runs with the highest accuracy. As these runs pass through 'adam' in the optimizer axis, you can conclude that 'adam' performed better than 'sgd' on these experiments."
   ]
  }
 ],
 "metadata": {
  "colab": {
   "collapsed_sections": [],
   "name": "hyperparameter_tuning_with_hparams.ipynb",
   "toc_visible": true
  },
  "kernelspec": {
   "display_name": "Python 3",
   "language": "python",
   "name": "python3"
  },
  "language_info": {
   "codemirror_mode": {
    "name": "ipython",
    "version": 3
   },
   "file_extension": ".py",
   "mimetype": "text/x-python",
   "name": "python",
   "nbconvert_exporter": "python",
   "pygments_lexer": "ipython3",
   "version": "3.8.5"
  }
 },
 "nbformat": 4,
 "nbformat_minor": 1
}
