{
 "cells": [
  {
   "cell_type": "code",
   "execution_count": 1,
   "metadata": {},
   "outputs": [
    {
     "name": "stdout",
     "output_type": "stream",
     "text": [
      "2.13.1\n"
     ]
    }
   ],
   "source": [
    "import matplotlib.pyplot as plt\n",
    "import numpy as np\n",
    "import pandas as pd\n",
    "import tensorflow as tf\n",
    "import keras_tuner as kt\n",
    "print(tf.__version__)\n",
    "\n",
    "import keras\n",
    "from keras import layers\n",
    "\n",
    "from sklearn.metrics import accuracy_score, precision_score, recall_score\n",
    "from sklearn.model_selection import train_test_split\n",
    "from tensorflow.keras import layers, losses\n",
    "from tensorflow.keras.datasets import fashion_mnist\n",
    "from tensorflow.keras.models import Model\n",
    "\n",
    "#from tensorflow.keras.wrappers.scikit_learn import KerasRegressor\n"
   ]
  },
  {
   "cell_type": "code",
   "execution_count": 2,
   "metadata": {},
   "outputs": [
    {
     "data": {
      "text/html": [
       "<div>\n",
       "<style scoped>\n",
       "    .dataframe tbody tr th:only-of-type {\n",
       "        vertical-align: middle;\n",
       "    }\n",
       "\n",
       "    .dataframe tbody tr th {\n",
       "        vertical-align: top;\n",
       "    }\n",
       "\n",
       "    .dataframe thead th {\n",
       "        text-align: right;\n",
       "    }\n",
       "</style>\n",
       "<table border=\"1\" class=\"dataframe\">\n",
       "  <thead>\n",
       "    <tr style=\"text-align: right;\">\n",
       "      <th></th>\n",
       "      <th>0</th>\n",
       "      <th>1</th>\n",
       "      <th>2</th>\n",
       "      <th>3</th>\n",
       "      <th>4</th>\n",
       "      <th>5</th>\n",
       "      <th>6</th>\n",
       "      <th>7</th>\n",
       "      <th>8</th>\n",
       "      <th>9</th>\n",
       "      <th>...</th>\n",
       "      <th>70</th>\n",
       "      <th>71</th>\n",
       "      <th>72</th>\n",
       "      <th>73</th>\n",
       "      <th>74</th>\n",
       "      <th>75</th>\n",
       "      <th>76</th>\n",
       "      <th>77</th>\n",
       "      <th>78</th>\n",
       "      <th>79</th>\n",
       "    </tr>\n",
       "  </thead>\n",
       "  <tbody>\n",
       "    <tr>\n",
       "      <th>0</th>\n",
       "      <td>3.292550</td>\n",
       "      <td>1.129386</td>\n",
       "      <td>1.127192</td>\n",
       "      <td>2.943257</td>\n",
       "      <td>2.881993</td>\n",
       "      <td>1.281398</td>\n",
       "      <td>-1.433339</td>\n",
       "      <td>-0.977916</td>\n",
       "      <td>2.044927</td>\n",
       "      <td>2.084133</td>\n",
       "      <td>...</td>\n",
       "      <td>1.089455</td>\n",
       "      <td>2.915268</td>\n",
       "      <td>0.443536</td>\n",
       "      <td>0.0</td>\n",
       "      <td>-1.455104</td>\n",
       "      <td>-0.865331</td>\n",
       "      <td>0.000000</td>\n",
       "      <td>0.0</td>\n",
       "      <td>0.0</td>\n",
       "      <td>0.000000</td>\n",
       "    </tr>\n",
       "    <tr>\n",
       "      <th>1</th>\n",
       "      <td>5.948631</td>\n",
       "      <td>2.073620</td>\n",
       "      <td>1.148361</td>\n",
       "      <td>-2.407923</td>\n",
       "      <td>4.347328</td>\n",
       "      <td>2.692258</td>\n",
       "      <td>1.795444</td>\n",
       "      <td>0.656688</td>\n",
       "      <td>2.991314</td>\n",
       "      <td>0.878747</td>\n",
       "      <td>...</td>\n",
       "      <td>1.092359</td>\n",
       "      <td>-2.366027</td>\n",
       "      <td>1.283676</td>\n",
       "      <td>0.0</td>\n",
       "      <td>1.092359</td>\n",
       "      <td>-2.366027</td>\n",
       "      <td>0.000000</td>\n",
       "      <td>0.0</td>\n",
       "      <td>0.0</td>\n",
       "      <td>0.000000</td>\n",
       "    </tr>\n",
       "    <tr>\n",
       "      <th>2</th>\n",
       "      <td>1.962838</td>\n",
       "      <td>11.126064</td>\n",
       "      <td>-4.037154</td>\n",
       "      <td>2.058677</td>\n",
       "      <td>1.473886</td>\n",
       "      <td>7.474912</td>\n",
       "      <td>-3.925822</td>\n",
       "      <td>-0.184088</td>\n",
       "      <td>1.406231</td>\n",
       "      <td>11.259674</td>\n",
       "      <td>...</td>\n",
       "      <td>0.000000</td>\n",
       "      <td>0.000000</td>\n",
       "      <td>0.000000</td>\n",
       "      <td>0.0</td>\n",
       "      <td>0.000000</td>\n",
       "      <td>0.000000</td>\n",
       "      <td>0.000000</td>\n",
       "      <td>0.0</td>\n",
       "      <td>0.0</td>\n",
       "      <td>0.000000</td>\n",
       "    </tr>\n",
       "    <tr>\n",
       "      <th>3</th>\n",
       "      <td>1.383198</td>\n",
       "      <td>0.775613</td>\n",
       "      <td>-1.688025</td>\n",
       "      <td>1.653960</td>\n",
       "      <td>1.221781</td>\n",
       "      <td>0.447371</td>\n",
       "      <td>-1.204657</td>\n",
       "      <td>0.180370</td>\n",
       "      <td>0.703561</td>\n",
       "      <td>0.201996</td>\n",
       "      <td>...</td>\n",
       "      <td>0.000000</td>\n",
       "      <td>0.000000</td>\n",
       "      <td>0.000000</td>\n",
       "      <td>0.0</td>\n",
       "      <td>0.000000</td>\n",
       "      <td>0.000000</td>\n",
       "      <td>0.000000</td>\n",
       "      <td>0.0</td>\n",
       "      <td>0.0</td>\n",
       "      <td>0.000000</td>\n",
       "    </tr>\n",
       "    <tr>\n",
       "      <th>4</th>\n",
       "      <td>6.019484</td>\n",
       "      <td>1.706356</td>\n",
       "      <td>-0.880597</td>\n",
       "      <td>-2.931689</td>\n",
       "      <td>4.097297</td>\n",
       "      <td>1.360899</td>\n",
       "      <td>1.086409</td>\n",
       "      <td>-0.616527</td>\n",
       "      <td>3.119764</td>\n",
       "      <td>0.659620</td>\n",
       "      <td>...</td>\n",
       "      <td>-0.894729</td>\n",
       "      <td>-2.905498</td>\n",
       "      <td>1.511874</td>\n",
       "      <td>0.0</td>\n",
       "      <td>-0.894729</td>\n",
       "      <td>-2.905498</td>\n",
       "      <td>50.345768</td>\n",
       "      <td>0.0</td>\n",
       "      <td>0.0</td>\n",
       "      <td>-0.044842</td>\n",
       "    </tr>\n",
       "  </tbody>\n",
       "</table>\n",
       "<p>5 rows × 80 columns</p>\n",
       "</div>"
      ],
      "text/plain": [
       "          0          1         2         3         4         5         6  \\\n",
       "0  3.292550   1.129386  1.127192  2.943257  2.881993  1.281398 -1.433339   \n",
       "1  5.948631   2.073620  1.148361 -2.407923  4.347328  2.692258  1.795444   \n",
       "2  1.962838  11.126064 -4.037154  2.058677  1.473886  7.474912 -3.925822   \n",
       "3  1.383198   0.775613 -1.688025  1.653960  1.221781  0.447371 -1.204657   \n",
       "4  6.019484   1.706356 -0.880597 -2.931689  4.097297  1.360899  1.086409   \n",
       "\n",
       "          7         8          9  ...        70        71        72   73  \\\n",
       "0 -0.977916  2.044927   2.084133  ...  1.089455  2.915268  0.443536  0.0   \n",
       "1  0.656688  2.991314   0.878747  ...  1.092359 -2.366027  1.283676  0.0   \n",
       "2 -0.184088  1.406231  11.259674  ...  0.000000  0.000000  0.000000  0.0   \n",
       "3  0.180370  0.703561   0.201996  ...  0.000000  0.000000  0.000000  0.0   \n",
       "4 -0.616527  3.119764   0.659620  ... -0.894729 -2.905498  1.511874  0.0   \n",
       "\n",
       "         74        75         76   77   78        79  \n",
       "0 -1.455104 -0.865331   0.000000  0.0  0.0  0.000000  \n",
       "1  1.092359 -2.366027   0.000000  0.0  0.0  0.000000  \n",
       "2  0.000000  0.000000   0.000000  0.0  0.0  0.000000  \n",
       "3  0.000000  0.000000   0.000000  0.0  0.0  0.000000  \n",
       "4 -0.894729 -2.905498  50.345768  0.0  0.0 -0.044842  \n",
       "\n",
       "[5 rows x 80 columns]"
      ]
     },
     "execution_count": 2,
     "metadata": {},
     "output_type": "execute_result"
    }
   ],
   "source": [
    "# Download the dataset\n",
    "dataframe = pd.read_csv('df.csv')\n",
    "dataframe.head()\n",
    "\n",
    "N = 80\n",
    "# Select first N columns\n",
    "df_first_n_column  = dataframe.iloc[: , :N]\n",
    "df_first_n_column.head()"
   ]
  },
  {
   "cell_type": "code",
   "execution_count": 3,
   "metadata": {},
   "outputs": [
    {
     "name": "stdout",
     "output_type": "stream",
     "text": [
      "[[ 3.29255028  1.12938622  1.12719238 ...  0.          0.\n",
      "   0.        ]\n",
      " [ 5.94863091  2.07361969  1.14836097 ...  0.          0.\n",
      "   0.        ]\n",
      " [ 1.96283817 11.12606445 -4.0371542  ...  0.          0.\n",
      "   0.        ]\n",
      " ...\n",
      " [ 3.90005188  4.71358795  2.48476577 ...  0.          0.\n",
      "   0.        ]\n",
      " [ 1.71831036  0.38169449 -0.4257378  ...  0.          0.\n",
      "  -1.41709948]\n",
      " [ 5.85582809 11.959823   -3.01419187 ...  0.          0.\n",
      "  -0.91258603]]\n",
      "(209805, 80)\n"
     ]
    }
   ],
   "source": [
    "data = df_first_n_column.to_numpy()\n",
    "\n",
    "#remove the rare events where any of the entries is nan\n",
    "data = data[~np.isnan(data).any(axis=1), :]\n",
    "\n",
    "print(data)\n",
    "print(data.shape)\n",
    "\n",
    "train_data, test_data = train_test_split(data, test_size=0.2, random_state=21)\n"
   ]
  },
  {
   "cell_type": "code",
   "execution_count": 4,
   "metadata": {},
   "outputs": [
    {
     "name": "stdout",
     "output_type": "stream",
     "text": [
      "False\n"
     ]
    }
   ],
   "source": [
    "min_val = tf.reduce_min(train_data)\n",
    "max_val = tf.reduce_max(train_data)\n",
    "\n",
    "print(np.isnan(train_data).any())\n",
    "\n",
    "train_data = (train_data - min_val) / (max_val - min_val)\n",
    "test_data = (test_data - min_val) / (max_val - min_val)\n",
    "\n",
    "train_data = tf.cast(train_data, tf.float32)\n",
    "test_data = tf.cast(test_data, tf.float32)"
   ]
  },
  {
   "cell_type": "code",
   "execution_count": 5,
   "metadata": {},
   "outputs": [
    {
     "data": {
      "image/png": "[encoded data removed]",
      "text/plain": [
       "<Figure size 432x288 with 1 Axes>"
      ]
     },
     "metadata": {
      "needs_background": "light"
     },
     "output_type": "display_data"
    }
   ],
   "source": [
    "plt.grid()\n",
    "plt.plot(np.arange(N), train_data[2])\n",
    "plt.title(\"Event 0\")\n",
    "plt.show()"
   ]
  },
  {
   "cell_type": "code",
   "execution_count": 6,
   "metadata": {},
   "outputs": [],
   "source": [
    "class AnomalyDetector(Model):\n",
    "  def __init__(self):\n",
    "    super(AnomalyDetector, self).__init__()\n",
    "    self.encoder = tf.keras.Sequential([\n",
    "      layers.Dense(N, activation=\"tanh\"),\n",
    "      #layers.Dense(40, activation=\"relu\"),\n",
    "      #layers.Dense(20, activation=\"relu\")\n",
    "      #layers.Dense(16, activation=\"relu\")\n",
    "      layers.Dense(N/4, activation=\"tanh\")\n",
    "       ])\n",
    "\n",
    "    self.decoder = tf.keras.Sequential([\n",
    "      #layers.Dense(20, activation=\"relu\"),\n",
    "      #layers.Dense(40, activation=\"relu\"),\n",
    "      layers.Dense(N, activation=\"tanh\")])\n",
    "\n",
    "  def call(self, x):\n",
    "    encoded = self.encoder(x)\n",
    "    decoded = self.decoder(encoded)\n",
    "    return decoded\n",
    "\n",
    "autoencoder = AnomalyDetector()"
   ]
  },
  {
   "cell_type": "code",
   "execution_count": 7,
   "metadata": {},
   "outputs": [],
   "source": [
    "opt = keras.optimizers.Adam(learning_rate=0.005)\n",
    "autoencoder.compile(optimizer=opt, loss='mae')"
   ]
  },
  {
   "cell_type": "code",
   "execution_count": null,
   "metadata": {},
   "outputs": [
    {
     "name": "stdout",
     "output_type": "stream",
     "text": [
      "Epoch 1/30\n",
      "1312/1312 [==============================] - 3s 2ms/step - loss: 0.0014 - val_loss: 0.0011\n",
      "Epoch 2/30\n",
      "1312/1312 [==============================] - 2s 2ms/step - loss: 0.0010 - val_loss: 0.0010\n",
      "Epoch 3/30\n",
      "1312/1312 [==============================] - 2s 2ms/step - loss: 9.9644e-04 - val_loss: 9.7010e-04\n",
      "Epoch 4/30\n",
      "1312/1312 [==============================] - 3s 2ms/step - loss: 9.7096e-04 - val_loss: 0.0010\n",
      "Epoch 5/30\n",
      "1312/1312 [==============================] - 2s 2ms/step - loss: 9.5874e-04 - val_loss: 9.4777e-04\n",
      "Epoch 6/30\n",
      "1312/1312 [==============================] - 3s 2ms/step - loss: 9.4768e-04 - val_loss: 9.7277e-04\n",
      "Epoch 7/30\n",
      "1312/1312 [==============================] - 3s 2ms/step - loss: 9.4498e-04 - val_loss: 0.0010\n",
      "Epoch 8/30\n",
      "1312/1312 [==============================] - 3s 2ms/step - loss: 9.4172e-04 - val_loss: 9.9156e-04\n",
      "Epoch 9/30\n",
      "1312/1312 [==============================] - 3s 2ms/step - loss: 9.3314e-04 - val_loss: 9.5941e-04\n",
      "Epoch 10/30\n",
      "1312/1312 [==============================] - 3s 2ms/step - loss: 9.3096e-04 - val_loss: 9.4010e-04\n",
      "Epoch 11/30\n",
      "1312/1312 [==============================] - 3s 2ms/step - loss: 9.2666e-04 - val_loss: 9.8021e-04\n",
      "Epoch 12/30\n",
      "1312/1312 [==============================] - 3s 2ms/step - loss: 9.2371e-04 - val_loss: 9.2491e-04\n",
      "Epoch 13/30\n",
      "1312/1312 [==============================] - 3s 2ms/step - loss: 9.2439e-04 - val_loss: 9.0932e-04\n",
      "Epoch 14/30\n",
      "1312/1312 [==============================] - 3s 2ms/step - loss: 9.2292e-04 - val_loss: 9.5489e-04\n",
      "Epoch 15/30\n",
      "1312/1312 [==============================] - 3s 2ms/step - loss: 9.2026e-04 - val_loss: 8.9652e-04\n",
      "Epoch 16/30\n",
      "1312/1312 [==============================] - 3s 2ms/step - loss: 9.1876e-04 - val_loss: 9.2823e-04\n",
      "Epoch 17/30\n",
      "1312/1312 [==============================] - 2s 2ms/step - loss: 9.2109e-04 - val_loss: 9.4071e-04\n",
      "Epoch 18/30\n",
      "1312/1312 [==============================] - 2s 2ms/step - loss: 9.1980e-04 - val_loss: 9.0413e-04\n",
      "Epoch 19/30\n",
      "1312/1312 [==============================] - 3s 2ms/step - loss: 9.1524e-04 - val_loss: 9.2729e-04\n",
      "Epoch 20/30\n",
      "1312/1312 [==============================] - 2s 2ms/step - loss: 9.1920e-04 - val_loss: 9.4388e-04\n",
      "Epoch 21/30\n",
      "1312/1312 [==============================] - 3s 2ms/step - loss: 9.1650e-04 - val_loss: 9.5810e-04\n",
      "Epoch 22/30\n",
      "1312/1312 [==============================] - 3s 3ms/step - loss: 9.1566e-04 - val_loss: 8.9690e-04\n",
      "Epoch 23/30\n",
      "1312/1312 [==============================] - 4s 3ms/step - loss: 9.1728e-04 - val_loss: 9.4374e-04\n",
      "Epoch 24/30\n",
      "1312/1312 [==============================] - 3s 3ms/step - loss: 9.1501e-04 - val_loss: 8.9065e-04\n",
      "Epoch 25/30\n",
      "1312/1312 [==============================] - 3s 2ms/step - loss: 9.1009e-04 - val_loss: 9.0933e-04\n",
      "Epoch 26/30\n",
      "1312/1312 [==============================] - 2s 2ms/step - loss: 9.1252e-04 - val_loss: 9.2018e-04\n",
      "Epoch 27/30\n",
      "1312/1312 [==============================] - 2s 2ms/step - loss: 9.1293e-04 - val_loss: 9.3664e-04\n",
      "Epoch 28/30\n",
      "1293/1312 [============================>.] - ETA: 0s - loss: 9.1281e-04"
     ]
    }
   ],
   "source": [
    "history = autoencoder.fit(train_data, train_data, \n",
    "          epochs=30, \n",
    "          batch_size=128,\n",
    "          validation_data=(test_data, test_data),\n",
    "          shuffle=True)"
   ]
  },
  {
   "cell_type": "code",
   "execution_count": null,
   "metadata": {},
   "outputs": [],
   "source": [
    "plt.plot(history.history[\"loss\"], label=\"Training Loss\")\n",
    "plt.plot(history.history[\"val_loss\"], label=\"Validation Loss\")\n",
    "plt.yscale(\"log\")\n",
    "plt.legend()"
   ]
  },
  {
   "cell_type": "code",
   "execution_count": null,
   "metadata": {
    "scrolled": true
   },
   "outputs": [],
   "source": [
    "encoded_data = autoencoder.encoder(test_data).numpy()\n",
    "decoded_data = autoencoder.decoder(encoded_data).numpy()\n",
    "\n",
    "randIndx = 6\n",
    "\n",
    "plt.plot(test_data[randIndx], 'b')\n",
    "#plt.plot(encoded_data[randIndx], 'r')\n",
    "plt.plot(decoded_data[randIndx], 'r')\n",
    "#plt.fill_between(np.arange(N), encoded_data[randIndx], test_data[randIndx], color='lightcoral')\n",
    "plt.fill_between(np.arange(N), decoded_data[randIndx], test_data[randIndx], color='lightcoral')\n",
    "plt.legend(labels=[\"Input\", \"Reconstruction\", \"Error\"])\n",
    "plt.show()"
   ]
  },
  {
   "cell_type": "code",
   "execution_count": null,
   "metadata": {},
   "outputs": [],
   "source": [
    "reconstructions = autoencoder.predict(train_data)\n",
    "train_loss = tf.keras.losses.mae(reconstructions, train_data)\n",
    "\n",
    "plt.hist(train_loss[None,:], bins=50)\n",
    "plt.xlabel(\"Train loss\")\n",
    "plt.ylabel(\"No of examples\")\n",
    "plt.show()"
   ]
  },
  {
   "cell_type": "code",
   "execution_count": null,
   "metadata": {},
   "outputs": [],
   "source": [
    "reconstructions = autoencoder.predict(test_data)\n",
    "test_loss = tf.keras.losses.mae(reconstructions, test_data)\n",
    "\n",
    "plt.hist(test_loss[None,:], bins=50)\n",
    "plt.xlabel(\"Test loss\")\n",
    "plt.ylabel(\"No of examples\")\n",
    "plt.show()"
   ]
  },
  {
   "cell_type": "code",
   "execution_count": null,
   "metadata": {},
   "outputs": [],
   "source": [
    "min_ind = tf.argmin(test_loss)\n",
    "max_ind = tf.argmax(test_loss)\n",
    "\n",
    "#print(test_data[min_ind])"
   ]
  },
  {
   "cell_type": "code",
   "execution_count": null,
   "metadata": {},
   "outputs": [],
   "source": [
    "ind = min_ind\n",
    "\n",
    "plt.plot(test_data[ind], 'b')\n",
    "plt.plot(decoded_data[ind], 'r')\n",
    "ratio = (test_data[ind] / decoded_data[ind])\n",
    "#plt.plot(ratio, 'r')\n",
    "\n",
    "plt.fill_between(np.arange(N), decoded_data[ind], test_data[ind], color='lightcoral')\n",
    "plt.legend(labels=[\"Input\", \"Reconstruction\", \"Error\"])\n",
    "#plt.yscale(\"log\")\n",
    "plt.show()"
   ]
  },
  {
   "cell_type": "code",
   "execution_count": null,
   "metadata": {},
   "outputs": [],
   "source": [
    "threshold = np.mean(train_loss) + np.std(train_loss)\n",
    "print(\"Mean: \", np.mean(train_loss))\n",
    "print(\"Threshold: \", threshold)"
   ]
  },
  {
   "cell_type": "code",
   "execution_count": null,
   "metadata": {},
   "outputs": [],
   "source": [
    "def predict(model, data, threshold):\n",
    "  reconstructions = model(data)\n",
    "  loss = tf.keras.losses.mae(reconstructions, data)\n",
    "  return tf.math.less(loss, threshold)\n",
    "\n",
    "def print_stats(predictions, labels):\n",
    "  print(\"Accuracy = {}\".format(accuracy_score(labels, predictions)))\n",
    "  print(\"Precision = {}\".format(precision_score(labels, predictions)))\n",
    "  print(\"Recall = {}\".format(recall_score(labels, predictions)))"
   ]
  },
  {
   "cell_type": "code",
   "execution_count": null,
   "metadata": {},
   "outputs": [],
   "source": [
    "preds = predict(autoencoder, test_data, threshold)\n",
    "print(preds)\n",
    "print_stats(preds, test_labels)"
   ]
  }
 ],
 "metadata": {
  "@webio": {
   "lastCommId": null,
   "lastKernelId": null
  },
  "kernelspec": {
   "display_name": "Python 3",
   "language": "python",
   "name": "python3"
  },
  "language_info": {
   "codemirror_mode": {
    "name": "ipython",
    "version": 3
   },
   "file_extension": ".py",
   "mimetype": "text/x-python",
   "name": "python",
   "nbconvert_exporter": "python",
   "pygments_lexer": "ipython3",
   "version": "3.8.5"
  }
 },
 "nbformat": 4,
 "nbformat_minor": 5
}
